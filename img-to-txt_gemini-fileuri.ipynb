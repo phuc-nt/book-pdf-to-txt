{
 "cells": [
  {
   "cell_type": "code",
   "execution_count": 2,
   "metadata": {},
   "outputs": [
    {
     "name": "stderr",
     "output_type": "stream",
     "text": [
      "Processing folders:   0%|          | 0/1 [00:00<?, ?it/s]"
     ]
    },
    {
     "name": "stdout",
     "output_type": "stream",
     "text": [
      "Số token đầu vào cho page_5.png: 316, Số token đầu ra: 671, Tổng số token: 987\n"
     ]
    },
    {
     "name": "stderr",
     "output_type": "stream",
     "text": []
    },
    {
     "name": "stdout",
     "output_type": "stream",
     "text": [
      "Số token đầu vào cho page_7.png: 316, Số token đầu ra: 1173, Tổng số token: 1489\n"
     ]
    },
    {
     "name": "stderr",
     "output_type": "stream",
     "text": [
      "Processing Nam Phong Tap Chi Q01_QN_001-006_T001: 100%|██████████| 3/3 [00:47<00:00, 15.93s/it]\n",
      "Processing folders: 100%|██████████| 1/1 [00:47<00:00, 47.79s/it]"
     ]
    },
    {
     "name": "stdout",
     "output_type": "stream",
     "text": [
      "Số token đầu vào cho page_6.png: 316, Số token đầu ra: 1110, Tổng số token: 1426\n",
      "Text extraction completed and saved to the output folder.\n"
     ]
    },
    {
     "name": "stderr",
     "output_type": "stream",
     "text": [
      "\n"
     ]
    }
   ],
   "source": [
    "import os\n",
    "import google.generativeai as genai\n",
    "from dotenv import load_dotenv\n",
    "from tqdm import tqdm\n",
    "\n",
    "# Tải các biến môi trường từ file .env\n",
    "load_dotenv()\n",
    "\n",
    "# Lấy khóa API từ biến môi trường\n",
    "api_key = os.getenv(\"GOOGLE_API_KEY\")\n",
    "if not api_key:\n",
    "    raise ValueError(\"API key not found. Please set the GOOGLE_API_KEY in .env file.\")\n",
    "\n",
    "# Cung cấp khóa API cho mô hình Gemini\n",
    "genai.configure(api_key=api_key)\n",
    "\n",
    "# Thư mục gốc chứa các thư mục con\n",
    "root_input_folder = \"0.img-input\"\n",
    "output_folder = \"2.txt-output\"\n",
    "\n",
    "# Tạo thư mục đầu ra nếu chưa tồn tại\n",
    "os.makedirs(output_folder, exist_ok=True)\n",
    "\n",
    "# Khởi tạo mô hình Gemini\n",
    "model = genai.GenerativeModel(model_name=\"gemini-1.5-flash\")\n",
    "\n",
    "# Lấy danh sách tất cả các thư mục con trong thư mục gốc\n",
    "subfolders = [f.path for f in os.scandir(root_input_folder) if f.is_dir()]\n",
    "\n",
    "# Lặp qua từng thư mục con\n",
    "for input_folder in tqdm(subfolders, desc=\"Processing folders\"):\n",
    "    # Lấy tên thư mục con\n",
    "    subfolder = os.path.basename(input_folder)\n",
    "    \n",
    "    # Lấy danh sách các file PNG trong thư mục con\n",
    "    png_files = [f for f in os.listdir(input_folder) if f.endswith(\".png\")]\n",
    "    \n",
    "    # Xử lý từng file PNG trong thư mục con\n",
    "    for filename in tqdm(png_files, desc=f\"Processing {subfolder}\"):\n",
    "        image_path = os.path.join(input_folder, filename)\n",
    "        \n",
    "        # Upload file ảnh lên API và lấy thông tin file\n",
    "        myfile = genai.upload_file(image_path)\n",
    "        \n",
    "        # Tạo prompt cho API\n",
    "        prompt = \"Trích xuất chính xác nội dung từ hình ảnh mà tôi cung cấp. Chú ý, chính xác từng kí tự, kể cả các ký tự đặc biệt. Xuống dòng giống hệt trong ảnh. Chỉ trả lời nội dung trong ảnh, không thêm thông tin khác.\"\n",
    "        \n",
    "        # Gọi API Gemini để trích xuất văn bản bằng URL của file ảnh\n",
    "        response = model.generate_content([\n",
    "            myfile,\n",
    "            \"\\n\\n\",\n",
    "            prompt\n",
    "        ])\n",
    "        \n",
    "        # Lấy thông tin về số token từ phản hồi\n",
    "        usage_metadata = response.usage_metadata\n",
    "        print(f\"Số token đầu vào cho {filename}: {usage_metadata.prompt_token_count}, \"\n",
    "              f\"Số token đầu ra: {usage_metadata.candidates_token_count}, \"\n",
    "              f\"Tổng số token: {usage_metadata.total_token_count}\")\n",
    "\n",
    "        # Tạo đường dẫn file đầu ra\n",
    "        output_file_path = os.path.join(output_folder, subfolder, f\"{os.path.splitext(filename)[0]}.txt\")\n",
    "        \n",
    "        # Tạo thư mục con trong output nếu chưa tồn tại\n",
    "        os.makedirs(os.path.dirname(output_file_path), exist_ok=True)\n",
    "\n",
    "        # Lưu văn bản trích xuất vào file txt\n",
    "        with open(output_file_path, \"w\", encoding=\"utf-8\") as output_file:\n",
    "            output_file.write(response.text)\n",
    "\n",
    "print(\"Text extraction completed and saved to the output folder.\")"
   ]
  }
 ],
 "metadata": {
  "kernelspec": {
   "display_name": "Python 3",
   "language": "python",
   "name": "python3"
  },
  "language_info": {
   "codemirror_mode": {
    "name": "ipython",
    "version": 3
   },
   "file_extension": ".py",
   "mimetype": "text/x-python",
   "name": "python",
   "nbconvert_exporter": "python",
   "pygments_lexer": "ipython3",
   "version": "3.11.10"
  }
 },
 "nbformat": 4,
 "nbformat_minor": 2
}
